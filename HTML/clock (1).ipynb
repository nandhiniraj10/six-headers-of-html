{
 "cells": [
  {
   "cell_type": "code",
   "execution_count": 7,
   "id": "d6530ed4",
   "metadata": {},
   "outputs": [
    {
     "ename": "SyntaxError",
     "evalue": "EOL while scanning string literal (674887506.py, line 24)",
     "output_type": "error",
     "traceback": [
      "\u001b[1;36m  File \u001b[1;32m\"C:\\Users\\Dheeraj\\AppData\\Local\\Temp\\ipykernel_28300\\674887506.py\"\u001b[1;36m, line \u001b[1;32m24\u001b[0m\n\u001b[1;33m    clock.tittlce(\"DataFlair Alaram Clock)\u001b[0m\n\u001b[1;37m                                          ^\u001b[0m\n\u001b[1;31mSyntaxError\u001b[0m\u001b[1;31m:\u001b[0m EOL while scanning string literal\n"
     ]
    }
   ],
   "source": [
    "from time import *\n",
    "import time \n",
    "import datetime\n",
    "import winsound\n",
    "\n",
    "def alaram (sdet_alaram_timer):\n",
    "    time.sleep(1)\n",
    "    current_time = datetime . datetime.now()\n",
    "    now = current_time.strftime(\"%H:%M:%S\")\n",
    "    date = current_time.strftime(\"%d%m%Y\")\n",
    "    print(\"The Set Date is:\",date)\n",
    "    print(now)\n",
    "    if now ==set_alaram_timer:\n",
    "        print(\"Time to Wake up\")\n",
    "    windsound.PlaySound(\"sound.wav\",winsound.SND_ASYNC)\n",
    "    break\n",
    "    \n",
    "def actual_time():\n",
    "    Set_alaram_timer = f\"{hour.get()}:{min.get()}:{sec.get()}\"\n",
    "    alaram(set_alaram_timer)\n",
    "    \n",
    "clock = Tk()\n",
    "\n",
    "clock.tittlce(\"DataFlair Alaram Clock)\n",
    "clock.geometry(\"400x200\")\n",
    "time_formate=Lable1(clock, text=\"Enter time in 24 hour format!\",fg=\"red\",bg=\"white\",font=\"Arial\").place(x=60,y=120)\n",
    "addtime = Label(clock,text = \"Hour Min Sec\",font=60).place(x=110)\n",
    "setYourAlaram = Label(clock,text = \"When to wake you up\",fg=\"blue\",relife = \"solid,font=(\"Helevetica\",7,\"bold\")).place(x=0, y=29)\n",
    "                                    \n",
    "#The Variable we require to set the alaram(initialization):\n",
    "hour = stringVar() \n",
    "min = StringVar() \n",
    "sec = StringVar()\n",
    "                                    \n",
    "#The required to set the alaram clock:\n",
    "hourTime= Entry(clock, textvariable = hour,bg=\"purple\",width = 20).place(x=110,y=30)\n",
    "minTime= Entry(clock, textvariable = min,bg=\"pink\",width = 20).place(x=150,y=30)\n",
    "secTime= Entry(clock, textvariable = sec,,bg=\"yellow\",width = 20).place(x=200,y=30) \n",
    "                      \n",
    "#To take the time input by user:\n",
    "submit = Button(clock,text = \"Set Alaram\",fg=\"red\",width = 15,command = actual_time).place(x=110,y=70)\n",
    "                      \n",
    "Clock.mainloop()  \n",
    "#Execution of the window.s                      "
   ]
  },
  {
   "cell_type": "code",
   "execution_count": null,
   "id": "a7303a08",
   "metadata": {},
   "outputs": [],
   "source": []
  }
 ],
 "metadata": {
  "kernelspec": {
   "display_name": "Python 3 (ipykernel)",
   "language": "python",
   "name": "python3"
  },
  "language_info": {
   "codemirror_mode": {
    "name": "ipython",
    "version": 3
   },
   "file_extension": ".py",
   "mimetype": "text/x-python",
   "name": "python",
   "nbconvert_exporter": "python",
   "pygments_lexer": "ipython3",
   "version": "3.9.13"
  }
 },
 "nbformat": 4,
 "nbformat_minor": 5
}
